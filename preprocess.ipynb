{
 "cells": [
  {
   "cell_type": "code",
   "execution_count": 347,
   "metadata": {},
   "outputs": [],
   "source": [
    "import numpy as np\n",
    "import pandas as pd\n",
    "import json"
   ]
  },
  {
   "cell_type": "code",
   "execution_count": 48,
   "metadata": {},
   "outputs": [
    {
     "data": {
      "text/plain": [
       "Index(['Incident ID', 'Incident Date', 'State', 'City Or County', 'Address',\n",
       "       '# Victims Injured', '# Victims Killed', '# Subjects-Suspects Injured',\n",
       "       '# Subjects-Suspects Killed', '# Subjects-Suspects Arrested',\n",
       "       'Operations'],\n",
       "      dtype='object')"
      ]
     },
     "execution_count": 48,
     "metadata": {},
     "output_type": "execute_result"
    }
   ],
   "source": [
    "# read all Gun Violence Archive datasets from 2013-present\n",
    "gva2013 = pd.read_csv('gva2013.csv')\n",
    "gva2014 = pd.read_csv('gva2014.csv')\n",
    "gva2015 = pd.read_csv('gva2015.csv')\n",
    "gva2016 = pd.read_csv('gva2016.csv')\n",
    "gva2017 = pd.read_csv('gva2017.csv')\n",
    "gva2018 = pd.read_csv('gva2018.csv')\n",
    "gva2019 = pd.read_csv('gva2019.csv')\n",
    "gva2020 = pd.read_csv('gva2020.csv')\n",
    "gva2021 = pd.read_csv('gva2021.csv')\n",
    "gva2022 = pd.read_csv('gva2022.csv')\n",
    "gva2023 = pd.read_csv('gva20230604.csv')\n",
    "\n",
    "# joins all the data\n",
    "dfs = [gva2013, gva2014, gva2015, gva2016, gva2017, gva2018, gva2019, gva2020, gva2021, gva2022, gva2023]\n",
    "gva_data = pd.concat(dfs)\n",
    "gva_data.columns\n"
   ]
  },
  {
   "cell_type": "code",
   "execution_count": 49,
   "metadata": {},
   "outputs": [
    {
     "ename": "OSError",
     "evalue": "Cannot save file into a non-existent directory: 'data'",
     "output_type": "error",
     "traceback": [
      "\u001b[0;31m---------------------------------------------------------------------------\u001b[0m",
      "\u001b[0;31mOSError\u001b[0m                                   Traceback (most recent call last)",
      "Cell \u001b[0;32mIn[49], line 1\u001b[0m\n\u001b[0;32m----> 1\u001b[0m gva_data\u001b[39m.\u001b[39;49mto_csv(\u001b[39m'\u001b[39;49m\u001b[39m./data/gvaData.csv\u001b[39;49m\u001b[39m'\u001b[39;49m, index\u001b[39m=\u001b[39;49m\u001b[39mFalse\u001b[39;49;00m)\n",
      "File \u001b[0;32m/Library/Frameworks/Python.framework/Versions/3.10/lib/python3.10/site-packages/pandas/core/generic.py:3772\u001b[0m, in \u001b[0;36mNDFrame.to_csv\u001b[0;34m(self, path_or_buf, sep, na_rep, float_format, columns, header, index, index_label, mode, encoding, compression, quoting, quotechar, lineterminator, chunksize, date_format, doublequote, escapechar, decimal, errors, storage_options)\u001b[0m\n\u001b[1;32m   3761\u001b[0m df \u001b[39m=\u001b[39m \u001b[39mself\u001b[39m \u001b[39mif\u001b[39;00m \u001b[39misinstance\u001b[39m(\u001b[39mself\u001b[39m, ABCDataFrame) \u001b[39melse\u001b[39;00m \u001b[39mself\u001b[39m\u001b[39m.\u001b[39mto_frame()\n\u001b[1;32m   3763\u001b[0m formatter \u001b[39m=\u001b[39m DataFrameFormatter(\n\u001b[1;32m   3764\u001b[0m     frame\u001b[39m=\u001b[39mdf,\n\u001b[1;32m   3765\u001b[0m     header\u001b[39m=\u001b[39mheader,\n\u001b[0;32m   (...)\u001b[0m\n\u001b[1;32m   3769\u001b[0m     decimal\u001b[39m=\u001b[39mdecimal,\n\u001b[1;32m   3770\u001b[0m )\n\u001b[0;32m-> 3772\u001b[0m \u001b[39mreturn\u001b[39;00m DataFrameRenderer(formatter)\u001b[39m.\u001b[39;49mto_csv(\n\u001b[1;32m   3773\u001b[0m     path_or_buf,\n\u001b[1;32m   3774\u001b[0m     lineterminator\u001b[39m=\u001b[39;49mlineterminator,\n\u001b[1;32m   3775\u001b[0m     sep\u001b[39m=\u001b[39;49msep,\n\u001b[1;32m   3776\u001b[0m     encoding\u001b[39m=\u001b[39;49mencoding,\n\u001b[1;32m   3777\u001b[0m     errors\u001b[39m=\u001b[39;49merrors,\n\u001b[1;32m   3778\u001b[0m     compression\u001b[39m=\u001b[39;49mcompression,\n\u001b[1;32m   3779\u001b[0m     quoting\u001b[39m=\u001b[39;49mquoting,\n\u001b[1;32m   3780\u001b[0m     columns\u001b[39m=\u001b[39;49mcolumns,\n\u001b[1;32m   3781\u001b[0m     index_label\u001b[39m=\u001b[39;49mindex_label,\n\u001b[1;32m   3782\u001b[0m     mode\u001b[39m=\u001b[39;49mmode,\n\u001b[1;32m   3783\u001b[0m     chunksize\u001b[39m=\u001b[39;49mchunksize,\n\u001b[1;32m   3784\u001b[0m     quotechar\u001b[39m=\u001b[39;49mquotechar,\n\u001b[1;32m   3785\u001b[0m     date_format\u001b[39m=\u001b[39;49mdate_format,\n\u001b[1;32m   3786\u001b[0m     doublequote\u001b[39m=\u001b[39;49mdoublequote,\n\u001b[1;32m   3787\u001b[0m     escapechar\u001b[39m=\u001b[39;49mescapechar,\n\u001b[1;32m   3788\u001b[0m     storage_options\u001b[39m=\u001b[39;49mstorage_options,\n\u001b[1;32m   3789\u001b[0m )\n",
      "File \u001b[0;32m/Library/Frameworks/Python.framework/Versions/3.10/lib/python3.10/site-packages/pandas/io/formats/format.py:1186\u001b[0m, in \u001b[0;36mDataFrameRenderer.to_csv\u001b[0;34m(self, path_or_buf, encoding, sep, columns, index_label, mode, compression, quoting, quotechar, lineterminator, chunksize, date_format, doublequote, escapechar, errors, storage_options)\u001b[0m\n\u001b[1;32m   1165\u001b[0m     created_buffer \u001b[39m=\u001b[39m \u001b[39mFalse\u001b[39;00m\n\u001b[1;32m   1167\u001b[0m csv_formatter \u001b[39m=\u001b[39m CSVFormatter(\n\u001b[1;32m   1168\u001b[0m     path_or_buf\u001b[39m=\u001b[39mpath_or_buf,\n\u001b[1;32m   1169\u001b[0m     lineterminator\u001b[39m=\u001b[39mlineterminator,\n\u001b[0;32m   (...)\u001b[0m\n\u001b[1;32m   1184\u001b[0m     formatter\u001b[39m=\u001b[39m\u001b[39mself\u001b[39m\u001b[39m.\u001b[39mfmt,\n\u001b[1;32m   1185\u001b[0m )\n\u001b[0;32m-> 1186\u001b[0m csv_formatter\u001b[39m.\u001b[39;49msave()\n\u001b[1;32m   1188\u001b[0m \u001b[39mif\u001b[39;00m created_buffer:\n\u001b[1;32m   1189\u001b[0m     \u001b[39massert\u001b[39;00m \u001b[39misinstance\u001b[39m(path_or_buf, StringIO)\n",
      "File \u001b[0;32m/Library/Frameworks/Python.framework/Versions/3.10/lib/python3.10/site-packages/pandas/io/formats/csvs.py:240\u001b[0m, in \u001b[0;36mCSVFormatter.save\u001b[0;34m(self)\u001b[0m\n\u001b[1;32m    236\u001b[0m \u001b[39m\u001b[39m\u001b[39m\"\"\"\u001b[39;00m\n\u001b[1;32m    237\u001b[0m \u001b[39mCreate the writer & save.\u001b[39;00m\n\u001b[1;32m    238\u001b[0m \u001b[39m\"\"\"\u001b[39;00m\n\u001b[1;32m    239\u001b[0m \u001b[39m# apply compression and byte/text conversion\u001b[39;00m\n\u001b[0;32m--> 240\u001b[0m \u001b[39mwith\u001b[39;00m get_handle(\n\u001b[1;32m    241\u001b[0m     \u001b[39mself\u001b[39;49m\u001b[39m.\u001b[39;49mfilepath_or_buffer,\n\u001b[1;32m    242\u001b[0m     \u001b[39mself\u001b[39;49m\u001b[39m.\u001b[39;49mmode,\n\u001b[1;32m    243\u001b[0m     encoding\u001b[39m=\u001b[39;49m\u001b[39mself\u001b[39;49m\u001b[39m.\u001b[39;49mencoding,\n\u001b[1;32m    244\u001b[0m     errors\u001b[39m=\u001b[39;49m\u001b[39mself\u001b[39;49m\u001b[39m.\u001b[39;49merrors,\n\u001b[1;32m    245\u001b[0m     compression\u001b[39m=\u001b[39;49m\u001b[39mself\u001b[39;49m\u001b[39m.\u001b[39;49mcompression,\n\u001b[1;32m    246\u001b[0m     storage_options\u001b[39m=\u001b[39;49m\u001b[39mself\u001b[39;49m\u001b[39m.\u001b[39;49mstorage_options,\n\u001b[1;32m    247\u001b[0m ) \u001b[39mas\u001b[39;00m handles:\n\u001b[1;32m    248\u001b[0m     \u001b[39m# Note: self.encoding is irrelevant here\u001b[39;00m\n\u001b[1;32m    249\u001b[0m     \u001b[39mself\u001b[39m\u001b[39m.\u001b[39mwriter \u001b[39m=\u001b[39m csvlib\u001b[39m.\u001b[39mwriter(\n\u001b[1;32m    250\u001b[0m         handles\u001b[39m.\u001b[39mhandle,\n\u001b[1;32m    251\u001b[0m         lineterminator\u001b[39m=\u001b[39m\u001b[39mself\u001b[39m\u001b[39m.\u001b[39mlineterminator,\n\u001b[0;32m   (...)\u001b[0m\n\u001b[1;32m    256\u001b[0m         quotechar\u001b[39m=\u001b[39m\u001b[39mself\u001b[39m\u001b[39m.\u001b[39mquotechar,\n\u001b[1;32m    257\u001b[0m     )\n\u001b[1;32m    259\u001b[0m     \u001b[39mself\u001b[39m\u001b[39m.\u001b[39m_save()\n",
      "File \u001b[0;32m/Library/Frameworks/Python.framework/Versions/3.10/lib/python3.10/site-packages/pandas/io/common.py:737\u001b[0m, in \u001b[0;36mget_handle\u001b[0;34m(path_or_buf, mode, encoding, compression, memory_map, is_text, errors, storage_options)\u001b[0m\n\u001b[1;32m    735\u001b[0m \u001b[39m# Only for write methods\u001b[39;00m\n\u001b[1;32m    736\u001b[0m \u001b[39mif\u001b[39;00m \u001b[39m\"\u001b[39m\u001b[39mr\u001b[39m\u001b[39m\"\u001b[39m \u001b[39mnot\u001b[39;00m \u001b[39min\u001b[39;00m mode \u001b[39mand\u001b[39;00m is_path:\n\u001b[0;32m--> 737\u001b[0m     check_parent_directory(\u001b[39mstr\u001b[39;49m(handle))\n\u001b[1;32m    739\u001b[0m \u001b[39mif\u001b[39;00m compression:\n\u001b[1;32m    740\u001b[0m     \u001b[39mif\u001b[39;00m compression \u001b[39m!=\u001b[39m \u001b[39m\"\u001b[39m\u001b[39mzstd\u001b[39m\u001b[39m\"\u001b[39m:\n\u001b[1;32m    741\u001b[0m         \u001b[39m# compression libraries do not like an explicit text-mode\u001b[39;00m\n",
      "File \u001b[0;32m/Library/Frameworks/Python.framework/Versions/3.10/lib/python3.10/site-packages/pandas/io/common.py:600\u001b[0m, in \u001b[0;36mcheck_parent_directory\u001b[0;34m(path)\u001b[0m\n\u001b[1;32m    598\u001b[0m parent \u001b[39m=\u001b[39m Path(path)\u001b[39m.\u001b[39mparent\n\u001b[1;32m    599\u001b[0m \u001b[39mif\u001b[39;00m \u001b[39mnot\u001b[39;00m parent\u001b[39m.\u001b[39mis_dir():\n\u001b[0;32m--> 600\u001b[0m     \u001b[39mraise\u001b[39;00m \u001b[39mOSError\u001b[39;00m(\u001b[39mrf\u001b[39m\u001b[39m\"\u001b[39m\u001b[39mCannot save file into a non-existent directory: \u001b[39m\u001b[39m'\u001b[39m\u001b[39m{\u001b[39;00mparent\u001b[39m}\u001b[39;00m\u001b[39m'\u001b[39m\u001b[39m\"\u001b[39m)\n",
      "\u001b[0;31mOSError\u001b[0m: Cannot save file into a non-existent directory: 'data'"
     ]
    }
   ],
   "source": [
    "gva_data.to_csv('./data/gvaData.csv', index=False)"
   ]
  },
  {
   "cell_type": "code",
   "execution_count": 50,
   "metadata": {},
   "outputs": [],
   "source": [
    "import requests\n",
    "from bs4 import BeautifulSoup"
   ]
  },
  {
   "cell_type": "code",
   "execution_count": 8,
   "metadata": {},
   "outputs": [],
   "source": [
    "page = requests.get('https://wisevoter.com/state-rankings/states-with-strictest-gun-laws/#california') # Getting page HTML through request\n",
    "soup = BeautifulSoup(page.content, 'html.parser') # Parsing content using beautifulsoup"
   ]
  },
  {
   "cell_type": "code",
   "execution_count": 77,
   "metadata": {},
   "outputs": [
    {
     "data": {
      "text/html": [
       "<div>\n",
       "<style scoped>\n",
       "    .dataframe tbody tr th:only-of-type {\n",
       "        vertical-align: middle;\n",
       "    }\n",
       "\n",
       "    .dataframe tbody tr th {\n",
       "        vertical-align: top;\n",
       "    }\n",
       "\n",
       "    .dataframe thead th {\n",
       "        text-align: right;\n",
       "    }\n",
       "</style>\n",
       "<table border=\"1\" class=\"dataframe\">\n",
       "  <thead>\n",
       "    <tr style=\"text-align: right;\">\n",
       "      <th></th>\n",
       "      <th>State</th>\n",
       "      <th>Gun Law Grade</th>\n",
       "      <th>Gun Death Rate</th>\n",
       "      <th>Red or Blue State</th>\n",
       "    </tr>\n",
       "  </thead>\n",
       "  <tbody>\n",
       "    <tr>\n",
       "      <th>0</th>\n",
       "      <td>Colorado</td>\n",
       "      <td>B</td>\n",
       "      <td>15.4 per 100k</td>\n",
       "      <td>Democrat</td>\n",
       "    </tr>\n",
       "    <tr>\n",
       "      <th>1</th>\n",
       "      <td>Delaware</td>\n",
       "      <td>B</td>\n",
       "      <td>14.4 per 100k</td>\n",
       "      <td>Democrat</td>\n",
       "    </tr>\n",
       "    <tr>\n",
       "      <th>2</th>\n",
       "      <td>Oregon</td>\n",
       "      <td>B</td>\n",
       "      <td>13 per 100k</td>\n",
       "      <td>Democrat</td>\n",
       "    </tr>\n",
       "    <tr>\n",
       "      <th>3</th>\n",
       "      <td>Pennsylvania</td>\n",
       "      <td>B</td>\n",
       "      <td>13.6 per 100k</td>\n",
       "      <td>Swing State</td>\n",
       "    </tr>\n",
       "    <tr>\n",
       "      <th>4</th>\n",
       "      <td>Rhode Island</td>\n",
       "      <td>B</td>\n",
       "      <td>5.1 per 100k</td>\n",
       "      <td>Democrat</td>\n",
       "    </tr>\n",
       "  </tbody>\n",
       "</table>\n",
       "</div>"
      ],
      "text/plain": [
       "          State Gun Law Grade Gun Death Rate Red or Blue State\n",
       "0      Colorado             B  15.4 per 100k          Democrat\n",
       "1      Delaware             B  14.4 per 100k          Democrat\n",
       "2        Oregon             B    13 per 100k          Democrat\n",
       "3  Pennsylvania             B  13.6 per 100k       Swing State\n",
       "4  Rhode Island             B   5.1 per 100k          Democrat"
      ]
     },
     "execution_count": 77,
     "metadata": {},
     "output_type": "execute_result"
    }
   ],
   "source": [
    "table_rows = soup.select('tr')\n",
    "key_list = [x.text for x in soup.find_all('th')]\n",
    "data = {x: [] for x in key_list}\n",
    "for tr in table_rows[1:]:\n",
    "    values = tr.select('td')\n",
    "    for i in range(len(values)):\n",
    "        data[key_list[i]].append(values[i].text)\n",
    "        \n",
    "laws = pd.DataFrame(data, columns=data.keys())\n",
    "laws.head()\n"
   ]
  },
  {
   "cell_type": "code",
   "execution_count": 184,
   "metadata": {},
   "outputs": [],
   "source": [
    "populations = pd.read_csv('state-population-table.csv')\n",
    "count = gva_data.groupby(\"State\").count().reset_index()\n",
    "laws = pd.read_csv('gunLaws.csv')\n",
    "merged = count.merge(populations, left_on = \"State\", right_on = \"state\", how=\"left\")\n",
    "rates = []\n",
    "for state in merged[\"State\"]:\n",
    "    row = merged[merged[\"State\"] == state].iloc[0]\n",
    "    num_shootings = int(row[\"Incident ID\"])\n",
    "    pop = row[\"pop2023\"]\n",
    "    rates.append((num_shootings / pop) * 1_000_000)\n",
    "merged = merged.assign(Rates=rates)\n",
    "merged = merged.merge(laws, left_on = \"State\", right_on = \"State\", how=\"outer\")"
   ]
  },
  {
   "cell_type": "code",
   "execution_count": 186,
   "metadata": {},
   "outputs": [],
   "source": [
    "merged.to_csv('mapData.csv', index=False)"
   ]
  },
  {
   "cell_type": "code",
   "execution_count": 690,
   "metadata": {},
   "outputs": [],
   "source": [
    "shooters = pd.read_csv(\"Full Database-Table 1.csv\")\n",
    "shooters = shooters[['Shooter Last Name', \n",
    "                     'Shooter First Name', \n",
    "                     'Day of Week',\n",
    "                     'Day',\n",
    "                     'Month',\n",
    "                     'Year',\n",
    "                     'City', \n",
    "                     'State',\n",
    "                     'Location',\n",
    "                     'Number Killed', \n",
    "                     'Number Injured', \n",
    "                     'Age', \n",
    "                     'Gender', \n",
    "                     'Race', \n",
    "                     'Immigrant',\n",
    "                     'Sexual Orientation', \n",
    "                     'Religion', \n",
    "                     'Education',\n",
    "                     'Part I Crimes',\n",
    "                     'Part II Crimes',\n",
    "                     'Mental Illness',\n",
    "                     'Substance Use']]\n",
    "\n",
    "shooters = shooters.replace({'Location':{\"10\":\"Post Office\", \"0\":\"K-12 School\", \"1\":\"College/University\", \"2\":\"Government Building/Place of Civic Importance\",\"3\": \"House of Worship\",\"4\":\"Retail\",\"5\":\"Restaurant/Bar/Nightclub\",\"6\":\"Office\",\"7\":\"Place of Residence\",\"8\": \"Outdoors\",\"9\":\"Warehouse/Factory\"},\n",
    "                             'Gender': {0: \"Male\", 1: \"Female\", 3: \"Non-Binary\", 4: \"Transgender\"},\n",
    "                             \"Race\": {\"0\": \"White\", \"1\": \"Black\", \"2\":\"Latinx\", \"3\":\"Asian\", \"4\":\"Middle Eastern\", \"5\":\"Native American\"},\n",
    "                             \"Immigrant\": {0:\"No\", 1:\"Yes\"},\n",
    "                             \"Sexual Orientation\": {0: \"Heterosexual\", 1: \"Not Heterosexual\"},\n",
    "                             \"Religion\": {0: \"None\", 1: \"Christian\", 2: \"Muslim\", 3: \"Buddhist\", 4: \"Cultural spirituality/Other\", 5: \"Jewish\"},\n",
    "                             \"Education\": {0: \"Less than highschool\", 1:\"High school/GED\", 2:\"Some college/trade school\", 3: \"Bachelor's degree\", 4: \"Graduate school/advanced degree\"},\n",
    "                             \"Part I Crimes\": {\"0\":\"No evidence\", \"1\":\"Homicide\",\"2\":\"Forcible Rape\",\"3\":\"Robbery\",\"4\":\"Aggravated Assault\",\"5\":\"Burglary\",\"6\":\"Larceny-Theft\",\"7\":\"Motor Vehicle Theft\",\"8\":\"Arson\"},\n",
    "                             \"Part II Crimes\": {\"0\": \"No evidence\",\"1\": \"Simple Assault\",\"2\":\"Fraud, Forgery, Embezzlement\",\"3\":\"Stolen Property\",\"4\":\"Vandalism\",\"5\":\"Weapons Offenses\",\"6\":\"Prostitution or Other Non-rape Sex Offenses\",\"7\":\"Drugs\",\"8\":\"DUI\",\"9\":\"Other\"},\n",
    "                             \"Mental Illness\": {\"0\": \"No evidence\", \"1\": \"Mood disorder\", \"2\": \"Thought disorder\", \"3\": \"Other psychiatric disorder\", \"4\": \"Indication of psychiatric disorder but no diagnosis\"},\n",
    "                             \"Substance Use\": {\"0\": \"No evidence\", \"1\": \"Problem with alcohol\", \"2\": \"Marijuana\", \"3\": \"Other drugs\"},\n",
    "                             }, regex=True)"
   ]
  },
  {
   "cell_type": "code",
   "execution_count": 691,
   "metadata": {},
   "outputs": [],
   "source": [
    "def crimes(x):\n",
    "    lambda x: x.remove(\"No evidence\") if (x.count(\"No evidence\") == 1 and len(x) >= 2) else x\n",
    "    if (x.count(\"No evidence\") == 1 and len(x) >= 2):\n",
    "        x.remove(\"No evidence\")\n",
    "        return x\n",
    "    elif (x.count(\"No evidence\") == 2):\n",
    "        return [\"No evidence\"]\n",
    "    elif (x.count(\"Unknown\") >= 1):\n",
    "        return [\"Unknown\"]\n",
    "    else:\n",
    "        return x\n",
    "\n",
    "shooters = shooters.fillna(\"Unknown\")\n",
    "shooters[\"Location\"] = shooters[\"Location\"].apply(lambda x: x.split(',')).apply(lambda x: [i.strip() for i in x])\n",
    "shooters[\"Gender\"] = shooters[\"Gender\"].apply(lambda x: [x])\n",
    "shooters[\"Race\"] = shooters[\"Race\"].apply(lambda x: [x])\n",
    "shooters[\"Sexual Orientation\"] = shooters[\"Sexual Orientation\"].apply(lambda x: [x])\n",
    "shooters[\"Religion\"] = shooters[\"Religion\"].apply(lambda x: [x])\n",
    "shooters[\"Education\"] = shooters[\"Education\"].apply(lambda x: [x])\n",
    "shooters[\"Part I Crimes\"] = shooters[\"Part I Crimes\"].str.strip(\"`\").apply(lambda x: x.split(',')).apply(lambda x: [i.strip() for i in x])\n",
    "shooters[\"Part II Crimes\"] = shooters[\"Part II Crimes\"].str.strip(\"`\").apply(lambda x: x.split(',')).apply(lambda x: [i.strip() for i in x])\n",
    "shooters[\"Criminal Record\"] = (shooters[\"Part I Crimes\"] + shooters[\"Part II Crimes\"]).apply(crimes)\n",
    "shooters[\"Mental Illness\"] = shooters[\"Mental Illness\"].apply(lambda x: x.split(',')).apply(lambda x: [i.strip() for i in x])\n",
    "shooters[\"Substance Use\"] = shooters[\"Substance Use\"].apply(lambda x: x.split(',')).apply(lambda x: [i.strip() for i in x])\n"
   ]
  },
  {
   "cell_type": "code",
   "execution_count": 692,
   "metadata": {},
   "outputs": [],
   "source": [
    "shooters = shooters.assign(id=np.arange(len(shooters)) + 1)\n",
    "shooters = shooters[shooters['Year'] >= 2000]\n",
    "networkData = {}\n",
    "#Create the nodes\n",
    "networkData[\"nodes\"] = shooters.to_dict(orient='records')\n",
    "\n",
    "attributes = ['Location', 'Gender', 'Race', 'Sexual Orientation', 'Religion', 'Criminal Record', 'Mental Illness', 'Substance Use']\n",
    "for attribute in attributes:\n",
    "  links = []\n",
    "  for i in range(len(shooters)):\n",
    "    for j in range(i + 1, len(shooters)):\n",
    "        row1 = shooters.iloc[i]\n",
    "        row2 = shooters.iloc[j]\n",
    "        id1 = row1[\"id\"]\n",
    "        id2 = row2[\"id\"]\n",
    "        value = 0\n",
    "        val2 = [x.strip() for x in row2[attribute]]\n",
    "        val1 = [x.strip() for x in row1[attribute]]\n",
    "        if (any(item in val1 for item in val2)):\n",
    "            value += 1\n",
    "            link = {\"source\": int(id1), \"target\": int(id2), \"value\": int(value)}\n",
    "            links.append(link)\n",
    "  networkData[\"links\"] = links\n",
    "  with open(\"networkData_\" + attribute + \".json\", \"w\") as outfile:\n",
    "    json.dump(networkData, outfile)"
   ]
  },
  {
   "cell_type": "code",
   "execution_count": 702,
   "metadata": {},
   "outputs": [
    {
     "data": {
      "text/plain": [
       "fips                        6\n",
       "state              California\n",
       "densityMi           249.81347\n",
       "pop2023              38915693\n",
       "pop2022              39029342\n",
       "pop2020              39501653\n",
       "pop2019            39276883.3\n",
       "pop2010              37253956\n",
       "growthRate           -0.00291\n",
       "growth                -113649\n",
       "growthSince2010       0.04461\n",
       "area                   155779\n",
       "rank                        1\n",
       "percent               0.11656\n",
       "Name: 0, dtype: object"
      ]
     },
     "execution_count": 702,
     "metadata": {},
     "output_type": "execute_result"
    }
   ],
   "source": [
    "populations.iloc[0]"
   ]
  },
  {
   "cell_type": "code",
   "execution_count": null,
   "metadata": {},
   "outputs": [],
   "source": []
  }
 ],
 "metadata": {
  "kernelspec": {
   "display_name": "Python 3",
   "language": "python",
   "name": "python3"
  },
  "language_info": {
   "codemirror_mode": {
    "name": "ipython",
    "version": 3
   },
   "file_extension": ".py",
   "mimetype": "text/x-python",
   "name": "python",
   "nbconvert_exporter": "python",
   "pygments_lexer": "ipython3",
   "version": "3.10.7"
  },
  "orig_nbformat": 4
 },
 "nbformat": 4,
 "nbformat_minor": 2
}
